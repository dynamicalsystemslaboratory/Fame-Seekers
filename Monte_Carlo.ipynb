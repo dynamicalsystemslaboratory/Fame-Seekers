{
 "cells": [
  {
   "cell_type": "code",
   "execution_count": 1,
   "id": "0c995fab",
   "metadata": {},
   "outputs": [
    {
     "data": {
      "text/html": [
       "<style>.container { width:90% ! important; }<style>"
      ],
      "text/plain": [
       "<IPython.core.display.HTML object>"
      ]
     },
     "metadata": {},
     "output_type": "display_data"
    }
   ],
   "source": [
    "from IPython.core.display import display, HTML\n",
    "display(HTML(\"<style>.container { width:90% ! important; }<style>\"))"
   ]
  },
  {
   "cell_type": "code",
   "execution_count": 2,
   "id": "28783ded",
   "metadata": {},
   "outputs": [],
   "source": [
    "import warnings\n",
    "warnings.simplefilter(action='ignore', category=FutureWarning)\n",
    "import pandas as pd\n",
    "import numpy as np\n",
    "from math import log2\n",
    "import matplotlib.pyplot as plt\n",
    "from matplotlib.ticker import FormatStrFormatter\n",
    "import matplotlib.ticker as mticker\n",
    "from scipy.stats import mannwhitneyu\n",
    "from scipy.stats import spearmanr\n",
    "from statsmodels.stats.inter_rater import fleiss_kappa\n",
    "from statsmodels.stats import inter_rater as irr\n",
    "from statsmodels.tsa.stattools import adfuller\n",
    "import pingouin as pg\n",
    "pd.options.mode.chained_assignment = None"
   ]
  },
  {
   "cell_type": "code",
   "execution_count": 3,
   "id": "b6c1c973",
   "metadata": {},
   "outputs": [],
   "source": [
    "def spearmanr_pval(x,y):\n",
    "    return spearmanr(x,y)[1]"
   ]
  },
  {
   "cell_type": "code",
   "execution_count": 4,
   "id": "79f133d1",
   "metadata": {},
   "outputs": [],
   "source": [
    "def get_Fame(arr):\n",
    "    first_entry = np.where(arr != 0)[0][0]\n",
    "    return np.median(arr[first_entry:])"
   ]
  },
  {
   "cell_type": "code",
   "execution_count": 5,
   "id": "37644b79",
   "metadata": {},
   "outputs": [],
   "source": [
    "Mass_shooting_df = pd.read_excel(\"Data/Mass Shootings (08_1966-04_2021).xlsx\", sheet_name = \"Mass_Shootings\")\n",
    "Mass_shooting_df = Mass_shooting_df.drop_duplicates(subset=['Date'])\n",
    "Mass_shooting_df = Mass_shooting_df.reset_index()\n",
    "N = len(Mass_shooting_df)\n",
    "Variables = [\"Target_Group\"]\n",
    "wo = np.zeros([N,N])\n",
    "for i in range(N):\n",
    "    for j in range(i):\n",
    "        wo[i,j] = 1\n",
    "for Variable in Variables:\n",
    "    Mass_shooting_df = Mass_shooting_df.reindex(columns = Mass_shooting_df.columns.tolist() + [Variable+\"_Surprisal\"])"
   ]
  },
  {
   "cell_type": "code",
   "execution_count": 6,
   "id": "c0bc4b0e",
   "metadata": {},
   "outputs": [],
   "source": [
    "Wikipedia_df = pd.read_excel(\"Data/Mass Shootings (08_1966-04_2021).xlsx\", sheet_name = \"Wikiepdia\")\n",
    "for col in Wikipedia_df.columns:\n",
    "    if col != \"DateTime\":\n",
    "        Wikipedia_df[col] = pd.to_numeric(Wikipedia_df[col])\n",
    "Wikipedia_df[\"DateTime\"] = pd.to_datetime(Wikipedia_df[\"DateTime\"])"
   ]
  },
  {
   "cell_type": "code",
   "execution_count": 7,
   "id": "8d8f46c9",
   "metadata": {},
   "outputs": [],
   "source": [
    "Mass_shooting_df[\"Fame\"] = np.zeros([len(Mass_shooting_df)])\n",
    "\n",
    "for i in range(len(Mass_shooting_df)):\n",
    "    if (Mass_shooting_df[\"WikiPage_reference\"][i]==\"There's a wikipedia page but not on the data site\") | (Mass_shooting_df[\"WikiPage_reference\"][i]==\"No_page\") | (Mass_shooting_df[\"WikiPage_reference\"][i]==\"Corrupted\"): \n",
    "        Mass_shooting_df[\"Fame\"][i] = np.nan\n",
    "    else:\n",
    "        fame_score = get_Fame(Wikipedia_df[Mass_shooting_df[\"WikiPage_reference\"][i]].values)\n",
    "        Mass_shooting_df[\"Fame\"][i] = fame_score"
   ]
  },
  {
   "cell_type": "code",
   "execution_count": 8,
   "id": "b05d7eb8",
   "metadata": {},
   "outputs": [],
   "source": [
    "target_df = pd.read_excel(\"Data/Mass Shootings (08_1966-04_2021).xlsx\", sheet_name = \"Alpha&Kappa_TargetGroup\")"
   ]
  },
  {
   "cell_type": "code",
   "execution_count": 9,
   "id": "d67eec9d",
   "metadata": {},
   "outputs": [],
   "source": [
    "target_df[\"index\"] = target_df[\"subject\"]\n",
    "for i in range(len(target_df)):\n",
    "    target_df[\"index\"].iloc[i] = int(target_df[\"subject\"][i][1:])\n",
    "target_df = target_df.set_index('index')"
   ]
  },
  {
   "cell_type": "code",
   "execution_count": 12,
   "id": "5a6cf27f",
   "metadata": {},
   "outputs": [],
   "source": [
    "Man_U_test_Pval = []\n",
    "Corr_rho = []\n",
    "Corr_Pval = []\n",
    "for whatever in range(20000):\n",
    "    for i in range(len(Mass_shooting_df)):\n",
    "        targets = np.array(target_df.loc[Mass_shooting_df[\"Case\"].iloc[i]][1:6])\n",
    "        Tar_uniques, Tar_counts = np.unique(targets, return_counts = True)\n",
    "        if len(Tar_counts)==2:\n",
    "            if np.all(Tar_counts==[3,2]) or np.all(Tar_counts==[2,3]):\n",
    "                Mass_shooting_df[\"Target_Group\"].iloc[i] = np.random.choice(Tar_uniques, 1, p=[Tar_counts[0]/5,Tar_counts[1]/5])[0]\n",
    "        else:\n",
    "            maxx = np.max(Tar_counts)\n",
    "            max_indecies = np.where(Tar_counts==maxx)[0]\n",
    "            choices = Tar_uniques[max_indecies]\n",
    "            Mass_shooting_df[\"Target_Group\"].iloc[i] = np.random.choice(choices, 1, p=(1/len(choices))*np.ones([len(choices)]))[0]\n",
    "    for index , Variable in enumerate(Variables):\n",
    "        uniques = np.unique(Mass_shooting_df[Variable])\n",
    "        L = len(uniques)\n",
    "        C = np.zeros([N, int(L)])\n",
    "        J = np.ones([N, int(L)])\n",
    "        for i in range(N):\n",
    "            for j in range(len(uniques)):\n",
    "                C[i, j] = 1 if (Mass_shooting_df[Variable][i] == uniques[j]) else 0\n",
    "        priorDis = np.dot(wo,C)\n",
    "        choices = np.argwhere(C==1)[:,1]\n",
    "        for i in range(1,N):\n",
    "            history = priorDis[i,:]\n",
    "            choice = priorDis[i,choices[i]]\n",
    "            y = -log2((choice+1)/(L+np.sum(history)))\n",
    "            Mass_shooting_df[Variable+\"_Surprisal\"][i] = y\n",
    "    \n",
    "    RandomMass_shooting_df = Mass_shooting_df.iloc[1:]\n",
    "    RandomMass_shooting_df = RandomMass_shooting_df.reset_index()\n",
    "    \n",
    "    fs = np.array(RandomMass_shooting_df.loc[RandomMass_shooting_df[\"FameSeeker_Silva\"]][\"Target_Group\"+\"_Surprisal\"])\n",
    "    nfs = np.array(RandomMass_shooting_df.loc[RandomMass_shooting_df[\"FameSeeker_Silva\"]==False][\"Target_Group\"+\"_Surprisal\"])\n",
    "    U_pval = mannwhitneyu(nfs, fs, alternative='less',method='auto')[1]\n",
    "    Man_U_test_Pval.append(U_pval)\n",
    "    \n",
    "    Correlation_df = RandomMass_shooting_df.dropna(subset=['Fame'])[[\"Fame\",\"Injured\",\"Fatalities\",\"Target_Group_Surprisal\"]]\n",
    "    \n",
    "    Corr = pg.partial_corr(data=Correlation_df, x='Fame', y='Target_Group_Surprisal', covar=['Fatalities','Injured'],method = \"spearman\").round(4)\n",
    "    \n",
    "    Corr_rho.append(Corr['r'][0])\n",
    "    Corr_Pval.append(Corr[\"p-val\"][0])\n",
    "Output = pd.DataFrame({\"Man_U_test_Pval\":Man_U_test_Pval,\"Corr_Pval\":Corr_Pval,\"Corr_rho\":Corr_rho})\n",
    "Output.to_csv(\"Data/Monte_carlo_3V2&2V2.csv\")"
   ]
  },
  {
   "cell_type": "code",
   "execution_count": 29,
   "id": "e59e660f",
   "metadata": {},
   "outputs": [
    {
     "data": {
      "image/png": "[encoded data removed]",
      "text/plain": [
       "<Figure size 640x480 with 1 Axes>"
      ]
     },
     "metadata": {},
     "output_type": "display_data"
    }
   ],
   "source": [
    "plt.hist(Man_U_test_Pval, bins = 100);\n",
    "#plt.axvline(x = 0.05)\n",
    "#plt.yscale('log')\n",
    "\n",
    "# plt.axvline(x = 0.025)\n",
    "plt.title(\"U_test\");"
   ]
  },
  {
   "cell_type": "code",
   "execution_count": 14,
   "id": "8062ccf4",
   "metadata": {},
   "outputs": [
    {
     "name": "stdout",
     "output_type": "stream",
     "text": [
      "20000\n",
      "19754\n"
     ]
    }
   ],
   "source": [
    "print(np.sum(np.array(Man_U_test_Pval) <0.05))\n",
    "print(np.sum(np.array(Corr_Pval) <0.05))"
   ]
  },
  {
   "cell_type": "code",
   "execution_count": 27,
   "id": "04a1ce2f",
   "metadata": {},
   "outputs": [
    {
     "data": {
      "image/png": "[encoded data removed]",
      "text/plain": [
       "<Figure size 640x480 with 1 Axes>"
      ]
     },
     "metadata": {},
     "output_type": "display_data"
    }
   ],
   "source": [
    "plt.hist(Corr_Pval,bins = 100);\n",
    "#plt.yscale('log')\n",
    "# plt.axvline(x = 0.05)\n",
    "# plt.axvline(x = 0.025)\n",
    "plt.title(\"Corr\");"
   ]
  },
  {
   "cell_type": "code",
   "execution_count": 17,
   "id": "79b8a427",
   "metadata": {},
   "outputs": [
    {
     "data": {
      "image/png": "[encoded data removed]",
      "text/plain": [
       "<Figure size 640x480 with 1 Axes>"
      ]
     },
     "metadata": {},
     "output_type": "display_data"
    }
   ],
   "source": [
    "plt.hist(Corr_rho,bins = 50);\n",
    "plt.title(\"Rho\");"
   ]
  },
  {
   "cell_type": "code",
   "execution_count": null,
   "id": "5a8d5716",
   "metadata": {},
   "outputs": [],
   "source": []
  }
 ],
 "metadata": {
  "kernelspec": {
   "display_name": "Python 3 (ipykernel)",
   "language": "python",
   "name": "python3"
  },
  "language_info": {
   "codemirror_mode": {
    "name": "ipython",
    "version": 3
   },
   "file_extension": ".py",
   "mimetype": "text/x-python",
   "name": "python",
   "nbconvert_exporter": "python",
   "pygments_lexer": "ipython3",
   "version": "3.8.5"
  }
 },
 "nbformat": 4,
 "nbformat_minor": 5
}
