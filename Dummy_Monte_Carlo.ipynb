{
 "cells": [
  {
   "cell_type": "code",
   "execution_count": 1,
   "id": "0c995fab",
   "metadata": {},
   "outputs": [
    {
     "name": "stderr",
     "output_type": "stream",
     "text": [
      "C:\\Users\\succa\\AppData\\Local\\Temp\\ipykernel_8488\\2354669594.py:1: DeprecationWarning: Importing display from IPython.core.display is deprecated since IPython 7.14, please import from IPython display\n",
      "  from IPython.core.display import display, HTML\n"
     ]
    },
    {
     "data": {
      "text/html": [
       "<style>.container { width:90% ! important; }<style>"
      ],
      "text/plain": [
       "<IPython.core.display.HTML object>"
      ]
     },
     "metadata": {},
     "output_type": "display_data"
    }
   ],
   "source": [
    "from IPython.core.display import display, HTML\n",
    "display(HTML(\"<style>.container { width:90% ! important; }<style>\"))"
   ]
  },
  {
   "cell_type": "code",
   "execution_count": 2,
   "id": "28783ded",
   "metadata": {},
   "outputs": [
    {
     "name": "stderr",
     "output_type": "stream",
     "text": [
      "C:\\Users\\succa\\anaconda3\\lib\\site-packages\\outdated\\utils.py:14: OutdatedPackageWarning: The package outdated is out of date. Your version is 0.2.1, the latest is 0.2.2.\n",
      "Set the environment variable OUTDATED_IGNORE=1 to disable these warnings.\n",
      "  return warn(\n",
      "C:\\Users\\succa\\anaconda3\\lib\\site-packages\\outdated\\utils.py:14: OutdatedPackageWarning: The package pingouin is out of date. Your version is 0.5.2, the latest is 0.5.3.\n",
      "Set the environment variable OUTDATED_IGNORE=1 to disable these warnings.\n",
      "  return warn(\n"
     ]
    }
   ],
   "source": [
    "import warnings\n",
    "warnings.simplefilter(action='ignore', category=FutureWarning)\n",
    "import pandas as pd\n",
    "import numpy as np\n",
    "from math import log2\n",
    "import matplotlib.pyplot as plt\n",
    "from matplotlib.ticker import FormatStrFormatter\n",
    "import matplotlib.ticker as mticker\n",
    "from scipy.stats import mannwhitneyu\n",
    "from scipy.stats import spearmanr\n",
    "from statsmodels.stats.inter_rater import fleiss_kappa\n",
    "from statsmodels.stats import inter_rater as irr\n",
    "from statsmodels.tsa.stattools import adfuller\n",
    "import pingouin as pg\n",
    "pd.options.mode.chained_assignment = None"
   ]
  },
  {
   "cell_type": "code",
   "execution_count": 3,
   "id": "b6c1c973",
   "metadata": {},
   "outputs": [],
   "source": [
    "def spearmanr_pval(x,y):\n",
    "    return spearmanr(x,y)[1]"
   ]
  },
  {
   "cell_type": "code",
   "execution_count": 4,
   "id": "79f133d1",
   "metadata": {},
   "outputs": [],
   "source": [
    "def get_Fame(arr):\n",
    "    first_entry = np.where(arr != 0)[0][0]\n",
    "    return np.median(arr[first_entry:])"
   ]
  },
  {
   "cell_type": "code",
   "execution_count": 6,
   "id": "37644b79",
   "metadata": {},
   "outputs": [],
   "source": [
    "Mass_shooting_df = pd.read_excel(\"Mass_Shootings_dummy.xlsx\", sheet_name = \"Mass_Shootings\")\n",
    "Mass_shooting_df = Mass_shooting_df.drop_duplicates(subset=['Date'])\n",
    "Mass_shooting_df = Mass_shooting_df.reset_index()\n",
    "N = len(Mass_shooting_df)\n",
    "Variables = [\"Target_Group\"]\n",
    "wo = np.zeros([N,N])\n",
    "for i in range(N):\n",
    "    for j in range(i):\n",
    "        wo[i,j] = 1\n",
    "for Variable in Variables:\n",
    "    Mass_shooting_df = Mass_shooting_df.reindex(columns = Mass_shooting_df.columns.tolist() + [Variable+\"_Surprisal\"])"
   ]
  },
  {
   "cell_type": "code",
   "execution_count": 8,
   "id": "c0bc4b0e",
   "metadata": {},
   "outputs": [],
   "source": [
    "Wikipedia_df = pd.read_excel(\"Mass_Shootings_dummy.xlsx\", sheet_name = \"Wikiepdia\")\n",
    "for col in Wikipedia_df.columns:\n",
    "    if col != \"DateTime\":\n",
    "        Wikipedia_df[col] = pd.to_numeric(Wikipedia_df[col])\n",
    "Wikipedia_df[\"DateTime\"] = pd.to_datetime(Wikipedia_df[\"DateTime\"])"
   ]
  },
  {
   "cell_type": "code",
   "execution_count": 9,
   "id": "8d8f46c9",
   "metadata": {},
   "outputs": [],
   "source": [
    "Mass_shooting_df[\"Fame\"] = np.zeros([len(Mass_shooting_df)])\n",
    "\n",
    "for i in range(len(Mass_shooting_df)):\n",
    "    if (Mass_shooting_df[\"WikiPage_reference\"][i]==\"There's a wikipedia page but not on the data site\") | (Mass_shooting_df[\"WikiPage_reference\"][i]==\"No_page\") | (Mass_shooting_df[\"WikiPage_reference\"][i]==\"Corrupted\"): \n",
    "        Mass_shooting_df[\"Fame\"][i] = np.nan\n",
    "    else:\n",
    "        fame_score = get_Fame(Wikipedia_df[Mass_shooting_df[\"WikiPage_reference\"][i]].values)\n",
    "        Mass_shooting_df[\"Fame\"][i] = fame_score"
   ]
  },
  {
   "cell_type": "code",
   "execution_count": 10,
   "id": "b05d7eb8",
   "metadata": {},
   "outputs": [],
   "source": [
    "target_df = pd.read_excel(\"Mass_Shootings_dummy.xlsx\", sheet_name = \"Alpha&Kappa_TargetGroup\")"
   ]
  },
  {
   "cell_type": "code",
   "execution_count": 11,
   "id": "d67eec9d",
   "metadata": {},
   "outputs": [],
   "source": [
    "target_df[\"index\"] = target_df[\"subject\"]\n",
    "for i in range(len(target_df)):\n",
    "    target_df[\"index\"].iloc[i] = int(target_df[\"subject\"][i][1:])\n",
    "target_df = target_df.set_index('index')"
   ]
  },
  {
   "cell_type": "code",
   "execution_count": 12,
   "id": "5a6cf27f",
   "metadata": {},
   "outputs": [
    {
     "ename": "KeyError",
     "evalue": "'Case'",
     "output_type": "error",
     "traceback": [
      "\u001b[1;31m---------------------------------------------------------------------------\u001b[0m",
      "\u001b[1;31mKeyError\u001b[0m                                  Traceback (most recent call last)",
      "File \u001b[1;32m~\\anaconda3\\lib\\site-packages\\pandas\\core\\indexes\\base.py:3621\u001b[0m, in \u001b[0;36mIndex.get_loc\u001b[1;34m(self, key, method, tolerance)\u001b[0m\n\u001b[0;32m   3620\u001b[0m \u001b[38;5;28;01mtry\u001b[39;00m:\n\u001b[1;32m-> 3621\u001b[0m     \u001b[38;5;28;01mreturn\u001b[39;00m \u001b[38;5;28;43mself\u001b[39;49m\u001b[38;5;241;43m.\u001b[39;49m\u001b[43m_engine\u001b[49m\u001b[38;5;241;43m.\u001b[39;49m\u001b[43mget_loc\u001b[49m\u001b[43m(\u001b[49m\u001b[43mcasted_key\u001b[49m\u001b[43m)\u001b[49m\n\u001b[0;32m   3622\u001b[0m \u001b[38;5;28;01mexcept\u001b[39;00m \u001b[38;5;167;01mKeyError\u001b[39;00m \u001b[38;5;28;01mas\u001b[39;00m err:\n",
      "File \u001b[1;32m~\\anaconda3\\lib\\site-packages\\pandas\\_libs\\index.pyx:136\u001b[0m, in \u001b[0;36mpandas._libs.index.IndexEngine.get_loc\u001b[1;34m()\u001b[0m\n",
      "File \u001b[1;32m~\\anaconda3\\lib\\site-packages\\pandas\\_libs\\index.pyx:163\u001b[0m, in \u001b[0;36mpandas._libs.index.IndexEngine.get_loc\u001b[1;34m()\u001b[0m\n",
      "File \u001b[1;32mpandas\\_libs\\hashtable_class_helper.pxi:5198\u001b[0m, in \u001b[0;36mpandas._libs.hashtable.PyObjectHashTable.get_item\u001b[1;34m()\u001b[0m\n",
      "File \u001b[1;32mpandas\\_libs\\hashtable_class_helper.pxi:5206\u001b[0m, in \u001b[0;36mpandas._libs.hashtable.PyObjectHashTable.get_item\u001b[1;34m()\u001b[0m\n",
      "\u001b[1;31mKeyError\u001b[0m: 'Case'",
      "\nThe above exception was the direct cause of the following exception:\n",
      "\u001b[1;31mKeyError\u001b[0m                                  Traceback (most recent call last)",
      "Input \u001b[1;32mIn [12]\u001b[0m, in \u001b[0;36m<cell line: 4>\u001b[1;34m()\u001b[0m\n\u001b[0;32m      4\u001b[0m \u001b[38;5;28;01mfor\u001b[39;00m whatever \u001b[38;5;129;01min\u001b[39;00m \u001b[38;5;28mrange\u001b[39m(\u001b[38;5;241m20\u001b[39m):\n\u001b[0;32m      5\u001b[0m     \u001b[38;5;28;01mfor\u001b[39;00m i \u001b[38;5;129;01min\u001b[39;00m \u001b[38;5;28mrange\u001b[39m(\u001b[38;5;28mlen\u001b[39m(Mass_shooting_df)):\n\u001b[1;32m----> 6\u001b[0m         targets \u001b[38;5;241m=\u001b[39m np\u001b[38;5;241m.\u001b[39marray(target_df\u001b[38;5;241m.\u001b[39mloc[\u001b[43mMass_shooting_df\u001b[49m\u001b[43m[\u001b[49m\u001b[38;5;124;43m\"\u001b[39;49m\u001b[38;5;124;43mCase\u001b[39;49m\u001b[38;5;124;43m\"\u001b[39;49m\u001b[43m]\u001b[49m\u001b[38;5;241m.\u001b[39miloc[i]][\u001b[38;5;241m1\u001b[39m:\u001b[38;5;241m6\u001b[39m])\n\u001b[0;32m      7\u001b[0m         Tar_uniques, Tar_counts \u001b[38;5;241m=\u001b[39m np\u001b[38;5;241m.\u001b[39munique(targets, return_counts \u001b[38;5;241m=\u001b[39m \u001b[38;5;28;01mTrue\u001b[39;00m)\n\u001b[0;32m      8\u001b[0m         \u001b[38;5;28;01mif\u001b[39;00m \u001b[38;5;28mlen\u001b[39m(Tar_counts)\u001b[38;5;241m==\u001b[39m\u001b[38;5;241m2\u001b[39m:\n",
      "File \u001b[1;32m~\\anaconda3\\lib\\site-packages\\pandas\\core\\frame.py:3505\u001b[0m, in \u001b[0;36mDataFrame.__getitem__\u001b[1;34m(self, key)\u001b[0m\n\u001b[0;32m   3503\u001b[0m \u001b[38;5;28;01mif\u001b[39;00m \u001b[38;5;28mself\u001b[39m\u001b[38;5;241m.\u001b[39mcolumns\u001b[38;5;241m.\u001b[39mnlevels \u001b[38;5;241m>\u001b[39m \u001b[38;5;241m1\u001b[39m:\n\u001b[0;32m   3504\u001b[0m     \u001b[38;5;28;01mreturn\u001b[39;00m \u001b[38;5;28mself\u001b[39m\u001b[38;5;241m.\u001b[39m_getitem_multilevel(key)\n\u001b[1;32m-> 3505\u001b[0m indexer \u001b[38;5;241m=\u001b[39m \u001b[38;5;28;43mself\u001b[39;49m\u001b[38;5;241;43m.\u001b[39;49m\u001b[43mcolumns\u001b[49m\u001b[38;5;241;43m.\u001b[39;49m\u001b[43mget_loc\u001b[49m\u001b[43m(\u001b[49m\u001b[43mkey\u001b[49m\u001b[43m)\u001b[49m\n\u001b[0;32m   3506\u001b[0m \u001b[38;5;28;01mif\u001b[39;00m is_integer(indexer):\n\u001b[0;32m   3507\u001b[0m     indexer \u001b[38;5;241m=\u001b[39m [indexer]\n",
      "File \u001b[1;32m~\\anaconda3\\lib\\site-packages\\pandas\\core\\indexes\\base.py:3623\u001b[0m, in \u001b[0;36mIndex.get_loc\u001b[1;34m(self, key, method, tolerance)\u001b[0m\n\u001b[0;32m   3621\u001b[0m     \u001b[38;5;28;01mreturn\u001b[39;00m \u001b[38;5;28mself\u001b[39m\u001b[38;5;241m.\u001b[39m_engine\u001b[38;5;241m.\u001b[39mget_loc(casted_key)\n\u001b[0;32m   3622\u001b[0m \u001b[38;5;28;01mexcept\u001b[39;00m \u001b[38;5;167;01mKeyError\u001b[39;00m \u001b[38;5;28;01mas\u001b[39;00m err:\n\u001b[1;32m-> 3623\u001b[0m     \u001b[38;5;28;01mraise\u001b[39;00m \u001b[38;5;167;01mKeyError\u001b[39;00m(key) \u001b[38;5;28;01mfrom\u001b[39;00m \u001b[38;5;21;01merr\u001b[39;00m\n\u001b[0;32m   3624\u001b[0m \u001b[38;5;28;01mexcept\u001b[39;00m \u001b[38;5;167;01mTypeError\u001b[39;00m:\n\u001b[0;32m   3625\u001b[0m     \u001b[38;5;66;03m# If we have a listlike key, _check_indexing_error will raise\u001b[39;00m\n\u001b[0;32m   3626\u001b[0m     \u001b[38;5;66;03m#  InvalidIndexError. Otherwise we fall through and re-raise\u001b[39;00m\n\u001b[0;32m   3627\u001b[0m     \u001b[38;5;66;03m#  the TypeError.\u001b[39;00m\n\u001b[0;32m   3628\u001b[0m     \u001b[38;5;28mself\u001b[39m\u001b[38;5;241m.\u001b[39m_check_indexing_error(key)\n",
      "\u001b[1;31mKeyError\u001b[0m: 'Case'"
     ]
    }
   ],
   "source": [
    "Man_U_test_Pval = []\n",
    "Corr_rho = []\n",
    "Corr_Pval = []\n",
    "for whatever in range(20):\n",
    "    for i in range(len(Mass_shooting_df)):\n",
    "        targets = np.array(target_df.loc[Mass_shooting_df[\"Case\"].iloc[i]][1:6])\n",
    "        Tar_uniques, Tar_counts = np.unique(targets, return_counts = True)\n",
    "        if len(Tar_counts)==2:\n",
    "            if np.all(Tar_counts==[3,2]) or np.all(Tar_counts==[2,3]):\n",
    "                Mass_shooting_df[\"Target_Group\"].iloc[i] = np.random.choice(Tar_uniques, 1, p=[Tar_counts[0]/5,Tar_counts[1]/5])[0]\n",
    "        else:\n",
    "            maxx = np.max(Tar_counts)\n",
    "            max_indecies = np.where(Tar_counts==maxx)[0]\n",
    "            choices = Tar_uniques[max_indecies]\n",
    "            Mass_shooting_df[\"Target_Group\"].iloc[i] = np.random.choice(choices, 1, p=(1/len(choices))*np.ones([len(choices)]))[0]\n",
    "    for index , Variable in enumerate(Variables):\n",
    "        uniques = np.unique(Mass_shooting_df[Variable])\n",
    "        L = len(uniques)\n",
    "        C = np.zeros([N, int(L)])\n",
    "        J = np.ones([N, int(L)])\n",
    "        for i in range(N):\n",
    "            for j in range(len(uniques)):\n",
    "                C[i, j] = 1 if (Mass_shooting_df[Variable][i] == uniques[j]) else 0\n",
    "        priorDis = np.dot(wo,C)\n",
    "        choices = np.argwhere(C==1)[:,1]\n",
    "        for i in range(1,N):\n",
    "            history = priorDis[i,:]\n",
    "            choice = priorDis[i,choices[i]]\n",
    "            y = -log2((choice+1)/(L+np.sum(history)))\n",
    "            Mass_shooting_df[Variable+\"_Surprisal\"][i] = y\n",
    "    \n",
    "    RandomMass_shooting_df = Mass_shooting_df.iloc[1:]\n",
    "    RandomMass_shooting_df = RandomMass_shooting_df.reset_index()\n",
    "    \n",
    "    fs = np.array(RandomMass_shooting_df.loc[RandomMass_shooting_df[\"FameSeeker_Silva\"]][\"Target_Group\"+\"_Surprisal\"])\n",
    "    nfs = np.array(RandomMass_shooting_df.loc[RandomMass_shooting_df[\"FameSeeker_Silva\"]==False][\"Target_Group\"+\"_Surprisal\"])\n",
    "    U_pval = mannwhitneyu(nfs, fs, alternative='less',method='auto')[1]\n",
    "    Man_U_test_Pval.append(U_pval)\n",
    "    \n",
    "    Correlation_df = RandomMass_shooting_df.dropna(subset=['Fame'])[[\"Fame\",\"Injured\",\"Fatalities\",\"Target_Group_Surprisal\"]]\n",
    "    \n",
    "    Corr = pg.partial_corr(data=Correlation_df, x='Fame', y='Target_Group_Surprisal', covar=['Fatalities','Injured'],method = \"spearman\").round(4)\n",
    "    \n",
    "    Corr_rho.append(Corr['r'][0])\n",
    "    Corr_Pval.append(Corr[\"p-val\"][0])\n",
    "Output = pd.DataFrame({\"Man_U_test_Pval\":Man_U_test_Pval,\"Corr_Pval\":Corr_Pval,\"Corr_rho\":Corr_rho})\n",
    "Output.to_csv(\"Data/Monte_carlo_3V2&2V2.csv\")"
   ]
  },
  {
   "cell_type": "code",
   "execution_count": null,
   "id": "e59e660f",
   "metadata": {},
   "outputs": [],
   "source": [
    "plt.hist(Man_U_test_Pval, bins = 100);\n",
    "#plt.axvline(x = 0.05)\n",
    "#plt.yscale('log')\n",
    "\n",
    "# plt.axvline(x = 0.025)\n",
    "plt.title(\"U_test\");"
   ]
  },
  {
   "cell_type": "code",
   "execution_count": 14,
   "id": "8062ccf4",
   "metadata": {},
   "outputs": [
    {
     "name": "stdout",
     "output_type": "stream",
     "text": [
      "20000\n",
      "19754\n"
     ]
    }
   ],
   "source": [
    "print(np.sum(np.array(Man_U_test_Pval) <0.05))\n",
    "print(np.sum(np.array(Corr_Pval) <0.05))"
   ]
  },
  {
   "cell_type": "code",
   "execution_count": 15,
   "id": "553afac7",
   "metadata": {},
   "outputs": [
    {
     "name": "stdout",
     "output_type": "stream",
     "text": [
      "20000\n",
      "18955\n"
     ]
    }
   ],
   "source": [
    "print(np.sum(np.array(Man_U_test_Pval) <0.025))\n",
    "print(np.sum(np.array(Corr_Pval) <0.025))"
   ]
  },
  {
   "cell_type": "code",
   "execution_count": 27,
   "id": "04a1ce2f",
   "metadata": {},
   "outputs": [
    {
     "data": {
      "image/png": "[encoded data removed]",
      "text/plain": [
       "<Figure size 640x480 with 1 Axes>"
      ]
     },
     "metadata": {},
     "output_type": "display_data"
    }
   ],
   "source": [
    "plt.hist(Corr_Pval,bins = 100);\n",
    "#plt.yscale('log')\n",
    "# plt.axvline(x = 0.05)\n",
    "# plt.axvline(x = 0.025)\n",
    "plt.title(\"Corr\");"
   ]
  },
  {
   "cell_type": "code",
   "execution_count": 17,
   "id": "79b8a427",
   "metadata": {},
   "outputs": [
    {
     "data": {
      "image/png": "[encoded data removed]",
      "text/plain": [
       "<Figure size 640x480 with 1 Axes>"
      ]
     },
     "metadata": {},
     "output_type": "display_data"
    }
   ],
   "source": [
    "plt.hist(Corr_rho,bins = 50);\n",
    "plt.title(\"Rho\");"
   ]
  },
  {
   "cell_type": "code",
   "execution_count": null,
   "id": "5a8d5716",
   "metadata": {},
   "outputs": [],
   "source": []
  }
 ],
 "metadata": {
  "kernelspec": {
   "display_name": "Python 3 (ipykernel)",
   "language": "python",
   "name": "python3"
  },
  "language_info": {
   "codemirror_mode": {
    "name": "ipython",
    "version": 3
   },
   "file_extension": ".py",
   "mimetype": "text/x-python",
   "name": "python",
   "nbconvert_exporter": "python",
   "pygments_lexer": "ipython3",
   "version": "3.8.5"
  }
 },
 "nbformat": 4,
 "nbformat_minor": 5
}
